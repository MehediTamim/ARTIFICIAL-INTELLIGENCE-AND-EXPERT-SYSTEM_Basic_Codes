{
 "cells": [
  {
   "cell_type": "code",
   "execution_count": 1,
   "metadata": {},
   "outputs": [],
   "source": [
    "romanian_map = {\n",
    "    'Arad': {'Sibiu':140, 'Zerind':75, 'Timisoara':118},\n",
    "    'Zerind': {'Arad':75, 'Oradea':71},\n",
    "    'Oradea': {'Zerind':71, 'Sibiu': 151},\n",
    "    'Sibiu': {'Arad':140, 'Oradea':151, 'Fagaras':99, 'Rimnicu':80},\n",
    "    'Timisoara': {'Arad': 118, 'Lugoj':111},\n",
    "    'Lugoj': {'Timisoara':111, 'Mehadia':70},\n",
    "    'Mehadia': {'Lugoj': 70, 'Drobeta':75},\n",
    "    'Drobeta': {'Mehadia':75, 'Craiova':120},\n",
    "    'Craiova': {'Drobeta': 120, 'Rimnicu': 146, 'Pitesti': 138},\n",
    "    'Rimnicu': {'Sibiu': 80, 'Craiova': 146, 'Pitesti': 97},\n",
    "    'Fagaras': {'Sibiu':99, 'Bucharest':211},\n",
    "    'Pitesti': {'Rimnicu': 97, 'Craiova':138, 'Bucharest':101},\n",
    "    'Bucharest': {'Fagaras':211, 'Pitesti': 101, 'Giurgiu':90, 'Urziceni':85},\n",
    "    'Giurgiu': {'Bucharest': 90},\n",
    "    'Urziceni': {'Bucharest': 85, 'Vaslui':142, 'Hirsova':98},\n",
    "    'Hirsova': {'Urziceni':98, 'Eforie':86},\n",
    "    'Eforie': {'Hirsova':86},\n",
    "    'Vaslui': {'Iasi': 92, 'Urziceni':142},\n",
    "    'Iasi': {'Vaslui':92, 'Neamt': 87},\n",
    "    'Neamt': {'Iasi':87}\n",
    "}"
   ]
  },
  {
   "cell_type": "markdown",
   "metadata": {},
   "source": [
    "# BFS"
   ]
  },
  {
   "cell_type": "code",
   "execution_count": 4,
   "metadata": {},
   "outputs": [
    {
     "name": "stdout",
     "output_type": "stream",
     "text": [
      "1\n",
      "**************\n",
      "**************\n",
      "**************\n",
      "**************\n",
      "**************\n",
      "**************\n",
      "**************\n",
      "**************\n",
      "**************\n",
      "568\n",
      "['Timisoara', 'Arad', 'Lugoj', 'Sibiu', 'Zerind', 'Mehadia', 'Arad', 'Oradea', 'Fagaras']\n"
     ]
    },
    {
     "data": {
      "text/plain": [
       "['Timisoara', 'Arad', 'Sibiu', 'Fagaras', 'Bucharest']"
      ]
     },
     "execution_count": 4,
     "metadata": {},
     "output_type": "execute_result"
    }
   ],
   "source": [
    "from queue import Queue\n",
    "\n",
    "\n",
    "def bfs(startingNode, destinationNode):\n",
    "    print('1')\n",
    "    visited = {}#to store explored nodes\n",
    "    traversal_output = []#to store the order of traversal\n",
    "    frontier = Queue()\n",
    "\n",
    "    for city in romanian_map.keys():\n",
    "        visited[city] = False\n",
    "        \n",
    "    \n",
    "    visited[startingNode] = True\n",
    "    node = {'City':startingNode,'Distance':0, 'Path':[startingNode]}\n",
    "    frontier.put(node)    # arad\n",
    "    \n",
    "    while not frontier.empty():\n",
    "        print('**************')\n",
    "        node = frontier.get()     # in the first iteration it will be arad\n",
    "        u = node['City']\n",
    "        traversal_output.append(u)\n",
    "\n",
    "        for v in romanian_map[u].keys():\n",
    "            if not visited[v]:                \n",
    "                d = node['Distance'] + romanian_map[u][v]                \n",
    "                frontier.put({'City':v,'Distance':d,'Path': node['Path']+[v]})# store the new child node in the frontier\n",
    "                if v== destinationNode:\n",
    "                    print(d)\n",
    "                    print(traversal_output)\n",
    "                    return node['Path']+[v]\n",
    "    \n",
    "    \n",
    "\n",
    "bfs('Timisoara', 'Bucharest')"
   ]
  },
  {
   "cell_type": "markdown",
   "metadata": {},
   "source": [
    "# Uniform Cost Search"
   ]
  },
  {
   "cell_type": "code",
   "execution_count": 5,
   "metadata": {},
   "outputs": [
    {
     "name": "stdout",
     "output_type": "stream",
     "text": [
      "['Timisoara', 'Arad', 'Sibiu', 'Rimnicu', 'Pitesti', 'Bucharest']\n",
      "536\n",
      "['Timisoara', 'Lugoj', 'Arad', 'Mehadia', 'Zerind', 'Drobeta', 'Sibiu', 'Oradea', 'Rimnicu', 'Fagaras', 'Craiova', 'Oradea', 'Pitesti', 'Craiova', 'Pitesti', 'Bucharest']\n"
     ]
    }
   ],
   "source": [
    "from queue import PriorityQueue\n",
    "\n",
    "\n",
    "def ucs(startingNode, destinationNode):\n",
    "    visited = {}\n",
    "    \n",
    "    ucs_traversal_output = []\n",
    "    pq = PriorityQueue()\n",
    "\n",
    "\n",
    "    for city in romanian_map.keys():\n",
    "        visited[city] = False\n",
    "        \n",
    "    visited[startingNode] = True\n",
    "    node = (0,startingNode,[startingNode])\n",
    "    pq.put(node)\n",
    "\n",
    "\n",
    "    while not pq.empty():\n",
    "        node = pq.get()\n",
    "        u = node[1]    \n",
    "        ucs_traversal_output.append(u)\n",
    "        if u== destinationNode:\n",
    "            print(node[2])\n",
    "            print(node[0])\n",
    "            print(ucs_traversal_output)\n",
    "            break\n",
    "        visited[u] = True\n",
    "        for v in romanian_map[u].keys():            \n",
    "            if not visited[v]:\n",
    "                d = node[0] + romanian_map[u][v]\n",
    "                p = node[2]+[v]\n",
    "                pq.put((d,v,p)) \n",
    "\n",
    "ucs('Timisoara', 'Bucharest')"
   ]
  },
  {
   "cell_type": "markdown",
   "metadata": {},
   "source": [
    "# DFS"
   ]
  },
  {
   "cell_type": "code",
   "execution_count": 62,
   "metadata": {},
   "outputs": [
    {
     "name": "stdout",
     "output_type": "stream",
     "text": [
      "733\n",
      "['Arad', 'Timisoara', 'Lugoj', 'Mehadia', 'Drobeta', 'Craiova', 'Pitesti']\n"
     ]
    },
    {
     "data": {
      "text/plain": [
       "['Arad',\n",
       " 'Timisoara',\n",
       " 'Lugoj',\n",
       " 'Mehadia',\n",
       " 'Drobeta',\n",
       " 'Craiova',\n",
       " 'Pitesti',\n",
       " 'Bucharest']"
      ]
     },
     "execution_count": 62,
     "metadata": {},
     "output_type": "execute_result"
    }
   ],
   "source": [
    "def dfs(startingNode, destinationNode):\n",
    "    visited = {}#to store explored nodes\n",
    "    traversal_output = []#to store the order of traversal\n",
    "    Stack=[]\n",
    "\n",
    "    for city in romanian_map.keys():\n",
    "        visited[city] = False\n",
    "        \n",
    "    \n",
    "    visited[startingNode] = True\n",
    "    node = {'City':startingNode,'Distance':0, 'Path':[startingNode]}\n",
    "    Stack.append(node)    # arad\n",
    "    while not len(Stack)==0:\n",
    "        node = Stack.pop(-1)     # in the first iteration it will be arad\n",
    "        u = node['City']\n",
    "        traversal_output.append(u)\n",
    "\n",
    "        for v in romanian_map[u].keys():\n",
    "            if not visited[v]:                \n",
    "                d = node['Distance'] + romanian_map[u][v]                \n",
    "                Stack.append({'City':v,'Distance':d,'Path': node['Path']+[v]})# store the new child node in the Stack\n",
    "                if v== destinationNode:\n",
    "                    print(d)\n",
    "                    print(traversal_output)\n",
    "                    return node['Path']+[v]                      \n",
    "                \n",
    "dfs('Arad', 'Bucharest')"
   ]
  },
  {
   "cell_type": "markdown",
   "metadata": {},
   "source": [
    "# DFS LIMTED SEARCH"
   ]
  },
  {
   "cell_type": "code",
   "execution_count": 15,
   "metadata": {},
   "outputs": [
    {
     "name": "stdout",
     "output_type": "stream",
     "text": [
      "Enter the maximum depth limit:- 3\n",
      "\n",
      "Current level-> 0\n",
      "Goal node testing for Arad\n",
      "\n",
      "Expanding the current node Arad\n",
      "Current level-> 1\n",
      "Goal node testing for Sibiu\n",
      "\n",
      "Expanding the current node Sibiu\n",
      "Current level-> 2\n",
      "Goal node testing for Arad\n",
      "\n",
      "Expanding the current node Arad\n",
      "Current level-> 3\n",
      "Goal node testing for Sibiu\n",
      "Current level-> 3\n",
      "Goal node testing for Zerind\n",
      "Current level-> 3\n",
      "Goal node testing for Timisoara\n",
      "Current level-> 2\n",
      "Goal node testing for Oradea\n",
      "\n",
      "Expanding the current node Oradea\n",
      "Current level-> 3\n",
      "Goal node testing for Zerind\n",
      "Current level-> 3\n",
      "Goal node testing for Sibiu\n",
      "Current level-> 2\n",
      "Goal node testing for Fagaras\n",
      "Goal test successful in Start\n",
      "Path to goal node available\n",
      "Path ['Arad', 'Sibiu', 'Fagaras']\n"
     ]
    }
   ],
   "source": [
    "def DLS(start,goal,path,level,max):\n",
    "  print('Current level->',level)\n",
    "  print('Goal node testing for',start)\n",
    "  path.append(start)\n",
    "  if start == goal:\n",
    "    print(\"Goal test successful in Start\")\n",
    "    return path\n",
    "  if level==max:\n",
    "    return False\n",
    "  print('\\nExpanding the current node',start)\n",
    "  for child in romanian_map[start]:\n",
    "    if DLS(child,goal,path,level+1,max):\n",
    "      return path\n",
    "    path.pop()\n",
    "  return False\n",
    "\n",
    "start = 'Arad'\n",
    "goal =  'Fagaras'\n",
    "max = int(input(\"Enter the maximum depth limit:- \"))\n",
    "print()\n",
    "path = list()\n",
    "res = DLS(start,goal,path,0,max)\n",
    "if(res):\n",
    "    print(\"Path to goal node available\")\n",
    "    print(\"Path\",path)\n",
    "else:\n",
    "    print(\"Goal Node is not available in the Graph\")"
   ]
  },
  {
   "cell_type": "markdown",
   "metadata": {},
   "source": [
    "# DFS ITERATIVE SEARCH"
   ]
  },
  {
   "cell_type": "code",
   "execution_count": null,
   "metadata": {},
   "outputs": [],
   "source": []
  },
  {
   "cell_type": "code",
   "execution_count": 20,
   "metadata": {},
   "outputs": [
    {
     "name": "stdout",
     "output_type": "stream",
     "text": [
      "Current level-> 0\n",
      "Goal node testing for Arad\n",
      "Current level-> 0\n",
      "Goal node testing for Arad\n",
      "\n",
      "Expanding the current node Arad\n",
      "Current level-> 1\n",
      "Goal node testing for Sibiu\n",
      "Current level-> 1\n",
      "Goal node testing for Zerind\n",
      "Current level-> 1\n",
      "Goal node testing for Timisoara\n",
      "Current level-> 0\n",
      "Goal node testing for Arad\n",
      "\n",
      "Expanding the current node Arad\n",
      "Current level-> 1\n",
      "Goal node testing for Sibiu\n",
      "\n",
      "Expanding the current node Sibiu\n",
      "Current level-> 2\n",
      "Goal node testing for Arad\n",
      "Current level-> 2\n",
      "Goal node testing for Oradea\n",
      "Current level-> 2\n",
      "Goal node testing for Fagaras\n",
      "Current level-> 2\n",
      "Goal node testing for Rimnicu\n",
      "Current level-> 1\n",
      "Goal node testing for Zerind\n",
      "\n",
      "Expanding the current node Zerind\n",
      "Current level-> 2\n",
      "Goal node testing for Arad\n",
      "Current level-> 2\n",
      "Goal node testing for Oradea\n",
      "Current level-> 1\n",
      "Goal node testing for Timisoara\n",
      "\n",
      "Expanding the current node Timisoara\n",
      "Current level-> 2\n",
      "Goal node testing for Arad\n",
      "Current level-> 2\n",
      "Goal node testing for Lugoj\n",
      "Current level-> 0\n",
      "Goal node testing for Arad\n",
      "\n",
      "Expanding the current node Arad\n",
      "Current level-> 1\n",
      "Goal node testing for Sibiu\n",
      "\n",
      "Expanding the current node Sibiu\n",
      "Current level-> 2\n",
      "Goal node testing for Arad\n",
      "\n",
      "Expanding the current node Arad\n",
      "Current level-> 3\n",
      "Goal node testing for Sibiu\n",
      "Current level-> 3\n",
      "Goal node testing for Zerind\n",
      "Current level-> 3\n",
      "Goal node testing for Timisoara\n",
      "Current level-> 2\n",
      "Goal node testing for Oradea\n",
      "\n",
      "Expanding the current node Oradea\n",
      "Current level-> 3\n",
      "Goal node testing for Zerind\n",
      "Current level-> 3\n",
      "Goal node testing for Sibiu\n",
      "Current level-> 2\n",
      "Goal node testing for Fagaras\n",
      "\n",
      "Expanding the current node Fagaras\n",
      "Current level-> 3\n",
      "Goal node testing for Sibiu\n",
      "Current level-> 3\n",
      "Goal node testing for Bucharest\n",
      "Goal test successful in Start\n",
      "['Arad', 'Sibiu', 'Fagaras', 'Bucharest']\n"
     ]
    }
   ],
   "source": [
    "def DLS(start,goal,path,level,max):\n",
    "  print('Current level->',level)\n",
    "  print('Goal node testing for',start)\n",
    "  path.append(start)\n",
    "  if start == goal:\n",
    "    print(\"Goal test successful in Start\")\n",
    "    return [start]\n",
    "  if level==max:\n",
    "    return []\n",
    "  print('\\nExpanding the current node',start)\n",
    "  for child in romanian_map[start]:\n",
    "    if DLS(child,goal,path,level+1,max):\n",
    "      return path\n",
    "    path.pop()\n",
    "  return []\n",
    "\n",
    "\n",
    "def iterative(start,destination):\n",
    "    a=0\n",
    "    path = list()\n",
    "    while len(DLS(start,destination,path,0,a))==0:\n",
    "        a=a+1\n",
    "        path = list()\n",
    "    print(path) \n",
    "\n",
    "iterative('Arad','Bucharest')"
   ]
  },
  {
   "cell_type": "code",
   "execution_count": null,
   "metadata": {},
   "outputs": [],
   "source": []
  }
 ],
 "metadata": {
  "kernelspec": {
   "display_name": "Python 3",
   "language": "python",
   "name": "python3"
  },
  "language_info": {
   "codemirror_mode": {
    "name": "ipython",
    "version": 3
   },
   "file_extension": ".py",
   "mimetype": "text/x-python",
   "name": "python",
   "nbconvert_exporter": "python",
   "pygments_lexer": "ipython3",
   "version": "3.8.8"
  }
 },
 "nbformat": 4,
 "nbformat_minor": 4
}
