{
 "cells": [
  {
   "cell_type": "markdown",
   "metadata": {},
   "source": [
    "# N Queen Attack Detection"
   ]
  },
  {
   "cell_type": "code",
   "execution_count": 1,
   "metadata": {},
   "outputs": [
    {
     "name": "stdout",
     "output_type": "stream",
     "text": [
      "Enter number of Dimention : 8\n",
      "Q1: 7,2\n",
      "Q2: 2,8\n",
      "Q3: 4,6\n",
      "Q4: 4,4\n",
      "Q5: 8,7\n",
      "Q6: 4,8\n",
      "Q7: 7,6\n",
      "Q8: 1,2\n",
      "ROW VALUES ARE: [7, 2, 4, 4, 8, 4, 7, 1]\n",
      "COLUMN VALUES ARE: [2, 8, 6, 4, 7, 8, 6, 2]\n"
     ]
    }
   ],
   "source": [
    "# Create a board for gameplay\n",
    "import random\n",
    "r = []\n",
    "c = []\n",
    "N = int(input(\"Enter number of Dimention : \"))# for example input 6 then board dimention will be 6*6\n",
    "for i in range(1, N+1): \n",
    "    r.append(random.choice(range(1, N+1))) ## randomly store in the board\n",
    "    c.append(random.choice(range(1, N+1)))\n",
    "     #check repetition of position\n",
    "    print('Q{}: {},{}'.format(i,r[-1],c[-1]))\n",
    "print(\"ROW VALUES ARE:\",r)\n",
    "print(\"COLUMN VALUES ARE:\",c)"
   ]
  },
  {
   "cell_type": "code",
   "execution_count": 49,
   "metadata": {},
   "outputs": [],
   "source": [
    "# row attack\n",
    "def FIND_ROW_ATTACK(N,r,c):\n",
    "    count=0\n",
    "    for i in range(0,N): #running loop in n list\n",
    "        for j in range(i+1,N):# running loop from n+1\n",
    "            if(r[i] == r[j]):# checking row attack\n",
    "                print('row attack: row:{} column:{} and {}'.format(r[i],c[i],c[j])) \n",
    "                count=count+1 # when find a attack then increase the value of count\n",
    "    if(count>0):\n",
    "        return False\n",
    "    else:\n",
    "        print(\"No attack happened in row\")\n",
    "        return True   "
   ]
  },
  {
   "cell_type": "code",
   "execution_count": 50,
   "metadata": {},
   "outputs": [
    {
     "name": "stdout",
     "output_type": "stream",
     "text": [
      "row attack: row:4 column:7 and 3\n",
      "row attack: row:5 column:3 and 6\n",
      "row attack: row:1 column:5 and 8\n"
     ]
    },
    {
     "data": {
      "text/plain": [
       "False"
      ]
     },
     "execution_count": 50,
     "metadata": {},
     "output_type": "execute_result"
    }
   ],
   "source": [
    "FIND_ROW_ATTACK(N,r,c)"
   ]
  },
  {
   "cell_type": "code",
   "execution_count": 51,
   "metadata": {},
   "outputs": [],
   "source": [
    "#column attack\n",
    "def FIND_COLUMN_ATTACK(N,r,c):\n",
    "    count=0\n",
    "    for i in range(0,N):\n",
    "        for j in range(i+1,N):\n",
    "            if(c[i] == c[j]):\n",
    "                print('Column attack: Column:{} row:{} and {}'.format(c[i],r[i],r[j]))   \n",
    "                count=count+1 # when find a attack then increase the value of count\n",
    "    if(count>0):\n",
    "        return False\n",
    "    else:\n",
    "        print(\"No attack happened in Column\")\n",
    "        return True"
   ]
  },
  {
   "cell_type": "code",
   "execution_count": 52,
   "metadata": {},
   "outputs": [
    {
     "name": "stdout",
     "output_type": "stream",
     "text": [
      "Column attack: Column:7 row:4 and 2\n",
      "Column attack: Column:3 row:4 and 5\n",
      "Column attack: Column:8 row:3 and 1\n"
     ]
    },
    {
     "data": {
      "text/plain": [
       "False"
      ]
     },
     "execution_count": 52,
     "metadata": {},
     "output_type": "execute_result"
    }
   ],
   "source": [
    "FIND_COLUMN_ATTACK(N,r,c)"
   ]
  },
  {
   "cell_type": "code",
   "execution_count": 44,
   "metadata": {},
   "outputs": [],
   "source": [
    "# diagonal attack\n",
    "def FIND_DIAGONAL_ATTACK(N,r,c):\n",
    "    count=0\n",
    "    for i in range(0,N):\n",
    "        for j in range(i+1,N):\n",
    "            a=r[i]-r[j] #diagonal attack check equaiton\n",
    "            b=c[j]-c[i]#diagonal attack check equaiton\n",
    "            if(a==b or a==-b): # checking diagonal attack\n",
    "                print(\"Diagonal Attack between\",\"[\",r[j],\",\",c[j],\"]\",\"and\",\"[\",r[i],\",\",c[i],\"]\")\n",
    "                count=count+1\n",
    "    if(count>0):\n",
    "        return False\n",
    "    else:\n",
    "        print(\"No attack happened in Diagonal\")\n",
    "        return True"
   ]
  },
  {
   "cell_type": "code",
   "execution_count": 53,
   "metadata": {},
   "outputs": [
    {
     "name": "stdout",
     "output_type": "stream",
     "text": [
      "Diagonal Attack between [ 3 , 8 ] and [ 4 , 7 ]\n",
      "Diagonal Attack between [ 5 , 6 ] and [ 4 , 7 ]\n",
      "Diagonal Attack between [ 2 , 7 ] and [ 3 , 8 ]\n",
      "Diagonal Attack between [ 5 , 6 ] and [ 3 , 8 ]\n",
      "Diagonal Attack between [ 1 , 8 ] and [ 2 , 7 ]\n"
     ]
    },
    {
     "data": {
      "text/plain": [
       "False"
      ]
     },
     "execution_count": 53,
     "metadata": {},
     "output_type": "execute_result"
    }
   ],
   "source": [
    "FIND_DIAGONAL_ATTACK(N,r,c)"
   ]
  },
  {
   "cell_type": "markdown",
   "metadata": {},
   "source": [
    "# implement a method to print a state is valid or not\n",
    "# input r and c (two lists)\n",
    "\n"
   ]
  },
  {
   "cell_type": "code",
   "execution_count": 46,
   "metadata": {},
   "outputs": [],
   "source": [
    "def NQueen_Attack_Detection(N,r,c): # check validity\n",
    "    if((FIND_ROW_ATTACK(N,r,c))==True and (FIND_COLUMN_ATTACK(N,r,c))==True and (FIND_DIAGONAL_ATTACK(N,r,c))==True):\n",
    "        print()\n",
    "        print(\"NQueen Attack Detection can't find attack. So it is valid \")\n",
    "    else:\n",
    "        print()\n",
    "        print(\"NQueen Attack Detection find attack. So it is Invalid \")"
   ]
  },
  {
   "cell_type": "code",
   "execution_count": 54,
   "metadata": {},
   "outputs": [
    {
     "name": "stdout",
     "output_type": "stream",
     "text": [
      "row attack: row:4 column:7 and 3\n",
      "row attack: row:5 column:3 and 6\n",
      "row attack: row:1 column:5 and 8\n",
      "\n",
      "NQueen Attack Detection find attack. So it is Invalid \n"
     ]
    }
   ],
   "source": [
    "NQueen_Attack_Detection(N,r,c)"
   ]
  },
  {
   "cell_type": "markdown",
   "metadata": {},
   "source": [
    "# TAKE INPUT N,R,C VALUE FROM USER\n",
    "CHECKING VALIDITY............"
   ]
  },
  {
   "cell_type": "code",
   "execution_count": 37,
   "metadata": {},
   "outputs": [],
   "source": [
    "def Nqueen_game():\n",
    "    N = int(input(\"Enter number of Dimention : \"))\n",
    "    r = []\n",
    "    c = []\n",
    "    for i in range(0, N):\n",
    "        print(\"Enter value of row No-{}: \".format(i+1))\n",
    "        ROW = int(input())\n",
    "        r.append(ROW) \n",
    "        print(\"Enter value of Column No-{}: \".format(i+1))\n",
    "        COLUMN = int(input())\n",
    "        c.append(COLUMN)    \n",
    "    print(\"ROW VALUES ARE:\",r)\n",
    "    print(\"COLUMN VALUES ARE:\",c)\n",
    "    print(\"***********Row and Column are filled********\")\n",
    "    print()\n",
    "    print(\"***********Simulating Row Attack********\")\n",
    "    FIND_ROW_ATTACK(N,r,c)\n",
    "    print()\n",
    "    print(\"***********Simulating Column Attack********\")\n",
    "    FIND_COLUMN_ATTACK(N,r,c)\n",
    "    print()\n",
    "    print(\"***********Simulating Diagonal Attack********\")\n",
    "    FIND_DIAGONAL_ATTACK(N,r,c)\n",
    "    print()\n",
    "    print(\"***********Simulating NQueen Attack Detection********\")\n",
    "    NQueen_Attack_Detection(N,r,c)"
   ]
  },
  {
   "cell_type": "code",
   "execution_count": 17,
   "metadata": {},
   "outputs": [
    {
     "name": "stdout",
     "output_type": "stream",
     "text": [
      "Enter number of Dimention : 4\n",
      "Enter value of row No-1: \n",
      "1\n",
      "Enter value of Column No-1: \n",
      "2\n",
      "Enter value of row No-2: \n",
      "2\n",
      "Enter value of Column No-2: \n",
      "4\n",
      "Enter value of row No-3: \n",
      "3\n",
      "Enter value of Column No-3: \n",
      "1\n",
      "Enter value of row No-4: \n",
      "4\n",
      "Enter value of Column No-4: \n",
      "3\n",
      "ROW VALUES ARE: [1, 2, 3, 4]\n",
      "COLUMN VALUES ARE: [2, 4, 1, 3]\n",
      "***********Row and Column are filled********\n",
      "\n",
      "***********Simulating Row Attack********\n",
      "No attack happened in row\n",
      "\n",
      "***********Simulating Column Attack********\n",
      "No attack happened in Column\n",
      "\n",
      "***********Simulating Diagonal Attack********\n",
      "No attack happened in Diagonal\n",
      "\n",
      "***********Simulating NQueen Attack Detection********\n",
      "No attack happened in row\n",
      "No attack happened in Column\n",
      "No attack happened in Diagonal\n",
      "\n",
      "NQueen Attack Detection can't find attack. So it is valid \n"
     ]
    }
   ],
   "source": [
    "Nqueen_game()"
   ]
  },
  {
   "cell_type": "code",
   "execution_count": null,
   "metadata": {},
   "outputs": [],
   "source": []
  }
 ],
 "metadata": {
  "kernelspec": {
   "display_name": "Python 3",
   "language": "python",
   "name": "python3"
  },
  "language_info": {
   "codemirror_mode": {
    "name": "ipython",
    "version": 3
   },
   "file_extension": ".py",
   "mimetype": "text/x-python",
   "name": "python",
   "nbconvert_exporter": "python",
   "pygments_lexer": "ipython3",
   "version": "3.8.8"
  }
 },
 "nbformat": 4,
 "nbformat_minor": 4
}
