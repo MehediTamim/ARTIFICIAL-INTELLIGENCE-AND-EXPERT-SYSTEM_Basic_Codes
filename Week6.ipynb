{
 "cells": [
  {
   "cell_type": "markdown",
   "metadata": {},
   "source": [
    "# Problem: Maximie f(x) = x^2 when x= 1 to 31"
   ]
  },
  {
   "cell_type": "markdown",
   "metadata": {},
   "source": [
    "# Step 1: Initialize Population"
   ]
  },
  {
   "cell_type": "code",
   "execution_count": 3,
   "metadata": {
    "_cell_guid": "b1076dfc-b9ad-4769-8c92-a6c4dae69d19",
    "_uuid": "8f2839f25d086af736a60e9eeb907d3b93b6e0e5"
   },
   "outputs": [],
   "source": [
    "##It will generate population by storing value\n",
    "import random\n",
    "def initPopulation(n,b):# n=number of parents and b=length of each parents in bits\n",
    "    p={}\n",
    "    for i in range(n):# loop running in n and generate the set of solution\n",
    "        s=[]\n",
    "        for j in range(b):\n",
    "            s.append(random.choice([0,1]))   # generate the solutions or values\n",
    "        p[i]=s ##store solution in dictionaries\n",
    "    return p #return population AS a dictionary"
   ]
  },
  {
   "cell_type": "code",
   "execution_count": 4,
   "metadata": {},
   "outputs": [
    {
     "data": {
      "text/plain": [
       "{0: [1, 1, 1, 1, 0, 0],\n",
       " 1: [0, 1, 1, 1, 1, 1],\n",
       " 2: [0, 0, 0, 0, 0, 1],\n",
       " 3: [0, 0, 0, 0, 1, 1],\n",
       " 4: [0, 1, 0, 1, 1, 0],\n",
       " 5: [0, 1, 1, 0, 0, 1],\n",
       " 6: [0, 1, 0, 0, 1, 1],\n",
       " 7: [1, 0, 0, 0, 1, 1]}"
      ]
     },
     "execution_count": 4,
     "metadata": {},
     "output_type": "execute_result"
    }
   ],
   "source": [
    "population=initPopulation(8,6) ##this will generate 8 population with length 6\n",
    "population ## show the population"
   ]
  },
  {
   "cell_type": "markdown",
   "metadata": {},
   "source": [
    "# Step 2: Reproduction or Parent Selection"
   ]
  },
  {
   "cell_type": "markdown",
   "metadata": {},
   "source": [
    "Fitness Calculation"
   ]
  },
  {
   "cell_type": "code",
   "execution_count": 5,
   "metadata": {},
   "outputs": [
    {
     "data": {
      "text/plain": [
       "[4, 3, 2, 1, 0]"
      ]
     },
     "execution_count": 5,
     "metadata": {},
     "output_type": "execute_result"
    }
   ],
   "source": [
    "[i for i in range(4,-1,-1)]"
   ]
  },
  {
   "cell_type": "code",
   "execution_count": 6,
   "metadata": {},
   "outputs": [],
   "source": [
    "# Calculating fitness \n",
    "def getFitness(p): #pass population though this function\n",
    "    f=[]\n",
    "    for k in p.keys(): ## working for population binary values\n",
    "        d = 0\n",
    "        b = len(p[k])\n",
    "        for i in range(b-1,-1,-1):\n",
    "            d=d+p[k][i]*2**(4-i) ## Binary to decimal conversion\n",
    "        f.append(d**2)\n",
    "    return f# return fitness"
   ]
  },
  {
   "cell_type": "code",
   "execution_count": 7,
   "metadata": {},
   "outputs": [
    {
     "data": {
      "text/plain": [
       "[900.0, 240.25, 0.25, 2.25, 121.0, 156.25, 90.25, 306.25]"
      ]
     },
     "execution_count": 7,
     "metadata": {},
     "output_type": "execute_result"
    }
   ],
   "source": [
    "fitness = getFitness(population)## calling fitness function\n",
    "fitness## show the fitness"
   ]
  },
  {
   "cell_type": "markdown",
   "metadata": {},
   "source": [
    "calculate probability and select parents"
   ]
  },
  {
   "cell_type": "code",
   "execution_count": 8,
   "metadata": {},
   "outputs": [],
   "source": [
    "## Calculating probabilities and generate random number\n",
    "def select_parent(n,fitness): # Passing number of population and fitness values\n",
    "    total_fitness = sum(fitness) # sum the fitness values\n",
    "    probabilities = [round(f/total_fitness,3) for f in fitness] # Store probabilities in this list\n",
    "    parents = {}\n",
    "    for i in range(n): # loop running between parents\n",
    "        r =random.choice(range(1,1001,1))/1000 ## this is the range of 0.1 to 1\n",
    "        s = 0\n",
    "        for j in range(len(probabilities)): ## selecting bin for random value\n",
    "            s = s + probabilities[j] # storing bin\n",
    "            if(r<=s):#checking the bin\n",
    "                parents[i]=population[j] # satisfy the bin condition\n",
    "                break # if satisfy the condion do not go for futher\n",
    "    return parents # return selected parents"
   ]
  },
  {
   "cell_type": "code",
   "execution_count": 9,
   "metadata": {},
   "outputs": [
    {
     "data": {
      "text/plain": [
       "{0: [1, 0, 0, 0, 1, 1],\n",
       " 1: [0, 1, 1, 0, 0, 1],\n",
       " 2: [0, 1, 1, 1, 1, 1],\n",
       " 3: [0, 1, 1, 0, 0, 1]}"
      ]
     },
     "execution_count": 9,
     "metadata": {},
     "output_type": "execute_result"
    }
   ],
   "source": [
    "parents = select_parent(4,fitness) #passing how many parent you want and  previous parents's fitness value \n",
    "parents## show the  parents"
   ]
  },
  {
   "cell_type": "markdown",
   "metadata": {},
   "source": [
    "# Step 3: Crossover"
   ]
  },
  {
   "cell_type": "code",
   "execution_count": 11,
   "metadata": {},
   "outputs": [
    {
     "data": {
      "text/plain": [
       "1"
      ]
     },
     "execution_count": 11,
     "metadata": {},
     "output_type": "execute_result"
    }
   ],
   "source": [
    "cp = random.choice(range(1,6))\n",
    "cp"
   ]
  },
  {
   "cell_type": "markdown",
   "metadata": {},
   "source": [
    "# Step 4: Select Survivor\n",
    "The selected survivors (solutions) will be added to population"
   ]
  },
  {
   "cell_type": "markdown",
   "metadata": {},
   "source": [
    "Select top 2 offspring based on fitness value and add them to population."
   ]
  },
  {
   "cell_type": "markdown",
   "metadata": {},
   "source": [
    "Repeat Step 2 to 4 for further iterations"
   ]
  },
  {
   "cell_type": "code",
   "execution_count": 157,
   "metadata": {},
   "outputs": [],
   "source": [
    "def crossover(parents,cp): ##this function is doing crossover\n",
    "    off = []# take a list\n",
    "    for i in parents.keys(): ##loop running in parents\n",
    "        print(i)# print local variable of i\n",
    "        if i%2==0: # This condition satisfy when i=2,4,6,8,10,.......even numbers\n",
    "            cp = random.choice(range(1,6))#take random value from 1 to 6\n",
    "            print(\"Crossover random value is\",cp)# print random value \n",
    "            cr1 = parents[i][:cp] + parents[i+1][cp:] # divide two parents by random value and join the portions and store inCR1\n",
    "            print(\"Parent \",i,\" TO \",\"Parent \",i+1,\"Crossover point :\",cp) # print after crossover\n",
    "            cr2 = parents[i+1][:cp] + parents[i][cp:] # divide two parents by random value and join the portions and store inCR2\n",
    "            print(\"Parent \",i+1,\" TO \",\"Parent \",i,\"Crossover point :\",cp)# print after crossover\n",
    "           # print(parents[i+1][:cp])\n",
    "            off.append(cr1) #after crossover cr1 store in off list\n",
    "            off.append(cr2)#after crossover cr1 store in off list\n",
    "    offsprings = {i:off[i] for i in range(len(off))} # store all off list in offspring\n",
    "    return offsprings # return offspring"
   ]
  },
  {
   "cell_type": "code",
   "execution_count": 149,
   "metadata": {},
   "outputs": [
    {
     "name": "stdout",
     "output_type": "stream",
     "text": [
      "0\n",
      "Crossover random value is 4\n",
      "Parent  0  TO  Parent  1 Crossover point : 4\n",
      "Parent  1  TO  Parent  0 Crossover point : 4\n",
      "[1, 0, 1, 0]\n",
      "1\n",
      "2\n",
      "Crossover random value is 4\n",
      "Parent  2  TO  Parent  3 Crossover point : 4\n",
      "Parent  3  TO  Parent  2 Crossover point : 4\n",
      "[1, 0, 1, 0]\n",
      "3\n"
     ]
    },
    {
     "data": {
      "text/plain": [
       "{0: [1, 0, 1, 0, 0, 0],\n",
       " 1: [1, 0, 1, 0, 0, 0],\n",
       " 2: [1, 0, 1, 0, 0, 0],\n",
       " 3: [1, 0, 1, 0, 0, 0]}"
      ]
     },
     "execution_count": 149,
     "metadata": {},
     "output_type": "execute_result"
    }
   ],
   "source": [
    "offspring=crossover(parents)# call the function with parameters\n",
    "offspring"
   ]
  },
  {
   "cell_type": "code",
   "execution_count": 158,
   "metadata": {},
   "outputs": [
    {
     "data": {
      "text/plain": [
       "[400.0, 400.0, 400.0, 400.0]"
      ]
     },
     "execution_count": 158,
     "metadata": {},
     "output_type": "execute_result"
    }
   ],
   "source": [
    "fitOffspring = getFitness(offspring) #get fitness of offspring\n",
    "fitOffspring"
   ]
  },
  {
   "cell_type": "code",
   "execution_count": 159,
   "metadata": {},
   "outputs": [
    {
     "data": {
      "text/plain": [
       "{0: [1, 0, 1, 0, 1, 0], 1: [0, 1, 1, 0, 1, 0]}"
      ]
     },
     "execution_count": 159,
     "metadata": {},
     "output_type": "execute_result"
    }
   ],
   "source": [
    "Survivor_Select=2;\n",
    "Survivor = select_parent(Survivor_Select,fitOffspring) #select survivor for iffsprings\n",
    "Survivor"
   ]
  },
  {
   "cell_type": "code",
   "execution_count": 160,
   "metadata": {},
   "outputs": [],
   "source": [
    "def addpopulation(Survivor): # this function add survivor to old population\n",
    "    for i in range(Survivor_Select):\n",
    "        population[len(population)]=(Survivor[i]) # store in last index while running the loop\n",
    "    return population"
   ]
  },
  {
   "cell_type": "code",
   "execution_count": 161,
   "metadata": {},
   "outputs": [
    {
     "data": {
      "text/plain": [
       "{0: [1, 0, 1, 0, 1, 0],\n",
       " 1: [0, 1, 1, 0, 1, 0],\n",
       " 2: [1, 0, 0, 1, 0, 1],\n",
       " 3: [1, 0, 1, 1, 1, 1],\n",
       " 4: [0, 0, 1, 1, 0, 1],\n",
       " 5: [0, 1, 0, 0, 0, 0],\n",
       " 6: [1, 1, 0, 1, 1, 1],\n",
       " 7: [1, 0, 1, 0, 0, 1],\n",
       " 8: [1, 0, 1, 0, 1, 0],\n",
       " 9: [0, 1, 1, 0, 1, 0]}"
      ]
     },
     "execution_count": 161,
     "metadata": {},
     "output_type": "execute_result"
    }
   ],
   "source": [
    "Final_population = addpopulation(Survivor)\n",
    "Final_population"
   ]
  },
  {
   "cell_type": "markdown",
   "metadata": {},
   "source": [
    "# Doing Step 2 to 4 for further iterations"
   ]
  },
  {
   "cell_type": "code",
   "execution_count": 162,
   "metadata": {},
   "outputs": [
    {
     "data": {
      "text/plain": [
       "[441.0, 169.0, 342.25, 552.25, 42.25, 64.0, 756.25, 420.25, 441.0, 169.0]"
      ]
     },
     "execution_count": 162,
     "metadata": {},
     "output_type": "execute_result"
    }
   ],
   "source": [
    "fitness = getFitness(Final_population)\n",
    "fitness"
   ]
  },
  {
   "cell_type": "code",
   "execution_count": 163,
   "metadata": {},
   "outputs": [
    {
     "data": {
      "text/plain": [
       "{0: [1, 0, 1, 0, 1, 0],\n",
       " 1: [1, 1, 0, 1, 1, 1],\n",
       " 2: [1, 1, 0, 1, 1, 1],\n",
       " 3: [0, 1, 1, 0, 1, 0]}"
      ]
     },
     "execution_count": 163,
     "metadata": {},
     "output_type": "execute_result"
    }
   ],
   "source": [
    "parents = select_parent(4,fitness)\n",
    "parents"
   ]
  },
  {
   "cell_type": "code",
   "execution_count": 164,
   "metadata": {},
   "outputs": [
    {
     "data": {
      "text/plain": [
       "4"
      ]
     },
     "execution_count": 164,
     "metadata": {},
     "output_type": "execute_result"
    }
   ],
   "source": [
    "cp = random.choice(range(1,5))\n",
    "cp"
   ]
  },
  {
   "cell_type": "code",
   "execution_count": 165,
   "metadata": {},
   "outputs": [
    {
     "name": "stdout",
     "output_type": "stream",
     "text": [
      "0\n",
      "Crossover random value is 5\n",
      "Parent  0  TO  Parent  1 Crossover point : 5\n",
      "Parent  1  TO  Parent  0 Crossover point : 5\n",
      "[1, 1, 0, 1, 1]\n",
      "1\n",
      "2\n",
      "Crossover random value is 3\n",
      "Parent  2  TO  Parent  3 Crossover point : 3\n",
      "Parent  3  TO  Parent  2 Crossover point : 3\n",
      "[0, 1, 1]\n",
      "3\n"
     ]
    },
    {
     "data": {
      "text/plain": [
       "{0: [1, 0, 1, 0, 1, 1],\n",
       " 1: [1, 1, 0, 1, 1, 0],\n",
       " 2: [1, 1, 0, 0, 1, 0],\n",
       " 3: [0, 1, 1, 1, 1, 1]}"
      ]
     },
     "execution_count": 165,
     "metadata": {},
     "output_type": "execute_result"
    }
   ],
   "source": [
    "offspring=crossover(parents,cp)\n",
    "offspring"
   ]
  },
  {
   "cell_type": "code",
   "execution_count": 166,
   "metadata": {},
   "outputs": [
    {
     "data": {
      "text/plain": [
       "[462.25, 729.0, 625.0, 240.25]"
      ]
     },
     "execution_count": 166,
     "metadata": {},
     "output_type": "execute_result"
    }
   ],
   "source": [
    "fitOffspring = getFitness(offspring)\n",
    "fitOffspring"
   ]
  },
  {
   "cell_type": "code",
   "execution_count": 167,
   "metadata": {},
   "outputs": [
    {
     "data": {
      "text/plain": [
       "{0: [1, 0, 1, 0, 1, 0],\n",
       " 1: [0, 1, 1, 0, 1, 0],\n",
       " 2: [1, 0, 0, 1, 0, 1],\n",
       " 3: [1, 0, 1, 1, 1, 1],\n",
       " 4: [0, 0, 1, 1, 0, 1],\n",
       " 5: [0, 1, 0, 0, 0, 0],\n",
       " 6: [1, 1, 0, 1, 1, 1],\n",
       " 7: [1, 0, 1, 0, 0, 1],\n",
       " 8: [1, 0, 1, 0, 1, 0],\n",
       " 9: [0, 1, 1, 0, 1, 0],\n",
       " 10: [1, 0, 1, 0, 1, 0],\n",
       " 11: [0, 1, 1, 0, 1, 0]}"
      ]
     },
     "execution_count": 167,
     "metadata": {},
     "output_type": "execute_result"
    }
   ],
   "source": [
    "Final_population = addpopulation(Survivor)\n",
    "Final_population"
   ]
  },
  {
   "cell_type": "code",
   "execution_count": null,
   "metadata": {},
   "outputs": [],
   "source": []
  }
 ],
 "metadata": {
  "kernelspec": {
   "display_name": "Python 3",
   "language": "python",
   "name": "python3"
  },
  "language_info": {
   "codemirror_mode": {
    "name": "ipython",
    "version": 3
   },
   "file_extension": ".py",
   "mimetype": "text/x-python",
   "name": "python",
   "nbconvert_exporter": "python",
   "pygments_lexer": "ipython3",
   "version": "3.8.8"
  }
 },
 "nbformat": 4,
 "nbformat_minor": 4
}
