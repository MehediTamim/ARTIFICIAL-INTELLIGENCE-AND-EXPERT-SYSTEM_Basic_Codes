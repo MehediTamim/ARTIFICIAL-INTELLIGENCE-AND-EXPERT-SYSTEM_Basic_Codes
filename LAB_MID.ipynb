{
 "cells": [
  {
   "cell_type": "markdown",
   "metadata": {},
   "source": [
    "**Name : Rashedul Haque\n",
    "ID : 19-39431-1****"
   ]
  },
  {
   "cell_type": "markdown",
   "metadata": {},
   "source": [
    "2 No ans :"
   ]
  },
  {
   "cell_type": "code",
   "execution_count": 2,
   "metadata": {
    "_cell_guid": "b1076dfc-b9ad-4769-8c92-a6c4dae69d19",
    "_uuid": "8f2839f25d086af736a60e9eeb907d3b93b6e0e5"
   },
   "outputs": [],
   "source": [
    "employees = {1101:{'name': 'Mr.X','job':'programmer','mail':'Mr.x@company.com'},\n",
    "             1102:{'name':'Mr.Y','job':['trainer','writter'],'mail':'Mr.y@company.com'},\n",
    "             1103:{'name':'Mr.Z','job':['tester','programmer','debugger'],'mail':'Mr.z@company.com'}\n",
    "            }"
   ]
  },
  {
   "cell_type": "code",
   "execution_count": 3,
   "metadata": {},
   "outputs": [
    {
     "name": "stdout",
     "output_type": "stream",
     "text": [
      "{'name': 'Mr.Y', 'job': ['trainer', 'writter'], 'mail': 'Mr.y@company.com'}\n",
      "Mr.X\n"
     ]
    }
   ],
   "source": [
    "print(employees[1102])\n",
    "print(employees[1101]['name'])"
   ]
  },
  {
   "cell_type": "markdown",
   "metadata": {},
   "source": [
    "**1 No ans**"
   ]
  },
  {
   "cell_type": "code",
   "execution_count": 6,
   "metadata": {},
   "outputs": [
    {
     "ename": "SyntaxError",
     "evalue": "unexpected EOF while parsing (<ipython-input-6-057313581fab>, line 2)",
     "output_type": "error",
     "traceback": [
      "\u001b[1;36m  File \u001b[1;32m\"<ipython-input-6-057313581fab>\"\u001b[1;36m, line \u001b[1;32m2\u001b[0m\n\u001b[1;33m    print(\"Number of t in this string is :\"+str(name.count(name))\u001b[0m\n\u001b[1;37m                                                                 ^\u001b[0m\n\u001b[1;31mSyntaxError\u001b[0m\u001b[1;31m:\u001b[0m unexpected EOF while parsing\n"
     ]
    }
   ],
   "source": [
    "name = \"writter\"\n",
    "print(\"Number of t in this string is :\"+str(name.count(name))"
   ]
  },
  {
   "cell_type": "markdown",
   "metadata": {},
   "source": [
    "3 No Ans"
   ]
  },
  {
   "cell_type": "code",
   "execution_count": null,
   "metadata": {},
   "outputs": [
    {
     "name": "stdout",
     "output_type": "stream",
     "text": [
      "('C', 'Clean')\n",
      "West\n",
      "\n",
      "('B', 'Dirty')\n",
      "Suck\n",
      "\n",
      "('B', 'Clean')\n",
      "North\n",
      "\n",
      "('A', 'Dirty')\n",
      "Suck\n",
      "\n",
      "('A', 'Clean')\n",
      "East\n",
      "\n",
      "('C', 'Clean')\n",
      "West\n",
      "\n",
      "('B', 'Clean')\n",
      "North\n",
      "\n",
      "('A', 'Clean')\n",
      "East\n",
      "\n",
      "('C', 'Clean')\n",
      "West\n"
     ]
    }
   ],
   "source": [
    "table={('A','Clean'):'East',('A','Dirty'):'Suck',('C','Clean'):'West',('C','Dirty'):'Suck',('B','Clean'):'North',('B','Dirty'):'Suck'}\n",
    "percepts=[]    \n",
    "def table_driven_agent(percept):\n",
    "    print(percept)\n",
    "    percepts.append(percept)\n",
    "    action = lookup(percept,table)\n",
    "    return action\n",
    "\n",
    "def lookup(percept,table):\n",
    "    for key in table:\n",
    "        if key == percept:\n",
    "            return table[key]\n",
    "\n",
    "import random\n",
    "Location = random.choice(['A','B','C'])\n",
    "Condition = random.choice(['Clean','Dirty'])\n",
    "\n",
    "while True:\n",
    "    action= table_driven_agent((Location,Condition))\n",
    "    print(action)\n",
    "    cmd = input()\n",
    "    if(cmd == 'stop'): break\n",
    "    if action == 'East':\n",
    "        Location = 'C'\n",
    "        Condition = random.choice(['Clean','Dirty'])\n",
    "    elif action== 'West':\n",
    "        Location = 'B'\n",
    "        Condition = random.choice(['Clean','Dirty'])\n",
    "    elif action=='North':\n",
    "        Location='A'\n",
    "        Condition = random.choice(['Clean','Dirty'])\n",
    "    \n",
    "        \n",
    "    else:\n",
    "        Condition = 'Clean'   "
   ]
  }
 ],
 "metadata": {
  "kernelspec": {
   "display_name": "Python 3",
   "language": "python",
   "name": "python3"
  },
  "language_info": {
   "codemirror_mode": {
    "name": "ipython",
    "version": 3
   },
   "file_extension": ".py",
   "mimetype": "text/x-python",
   "name": "python",
   "nbconvert_exporter": "python",
   "pygments_lexer": "ipython3",
   "version": "3.8.8"
  }
 },
 "nbformat": 4,
 "nbformat_minor": 4
}
