{
 "cells": [
  {
   "cell_type": "code",
   "execution_count": 27,
   "metadata": {},
   "outputs": [],
   "source": [
    "#The cgraph dictionary represent the state with their colours and relation between neigbours\n",
    "cgraph = {'WA': ['SA', 'NT'], \n",
    "          'Q': ['SA', 'NT', 'NSW'], \n",
    "          'T': [],\n",
    "          'V': ['SA', 'NSW'], \n",
    "          'SA': ['WA', 'NT', 'Q', 'NSW','V'], \n",
    "          'NT': ['Q', 'WA', 'SA'], \n",
    "          'NSW': ['Q', 'V', 'SA']}\n",
    "okColor={}# after selection of node it will fill constantly"
   ]
  },
  {
   "cell_type": "code",
   "execution_count": 28,
   "metadata": {},
   "outputs": [],
   "source": [
    "# write a method to get the highest degree node\n",
    "def get_node_hd():\n",
    "    mnode = '' # allot a variable for max degree node\n",
    "    length = -1\n",
    "    for k in cgraph.keys(): # running a loop in cgraph\n",
    "        if(len(cgraph[k])>length and k not in okColor.keys()): # compare states who have highest degree and not selected state in ok colour\n",
    "            length = len(cgraph[k])\n",
    "            mnode = k # max degree node\n",
    "    return mnode #return max node"
   ]
  },
  {
   "cell_type": "code",
   "execution_count": 39,
   "metadata": {},
   "outputs": [
    {
     "data": {
      "text/plain": [
       "'WA'"
      ]
     },
     "execution_count": 39,
     "metadata": {},
     "output_type": "execute_result"
    }
   ],
   "source": [
    "get_node_hd()"
   ]
  },
  {
   "cell_type": "code",
   "execution_count": 40,
   "metadata": {},
   "outputs": [],
   "source": [
    "# this dic represent the filtering\n",
    "colorstochooselist={'WA': ['red','green', 'blue'], \n",
    "                    'Q': ['red','green', 'blue'],\n",
    "                    'T': ['red', 'green', 'blue'],\n",
    "                    'V':  ['red','green', 'blue'], \n",
    "                    'NT': ['red','green', 'blue'],\n",
    "                    'SA': ['red','green', 'blue'],                    \n",
    "                    'NSW': ['red','green', 'blue']}\n",
    "\n",
    "import random\n",
    "def get_color(node): # pass node which is slected\n",
    "    # check colorstochooselist[node] is empty or not\n",
    "    if not colorstochooselist[node]:\n",
    "        return 'No Color'\n",
    "    color = random.choice(colorstochooselist[node])# randomly choose colour\n",
    "    colorstochooselist.pop(node)# pop the colour from state\n",
    "    # update color options\n",
    "    adjList = cgraph[node] # store all nodes/state from Cgraph\n",
    "    for adj in adjList:\n",
    "        if(adj in colorstochooselist.keys()):# searching neigbour\n",
    "            colorstochooselist[adj].remove(color)#remove the selected color from neigbour list also update the list\n",
    "    return color #return the selected color"
   ]
  },
  {
   "cell_type": "code",
   "execution_count": 38,
   "metadata": {},
   "outputs": [
    {
     "name": "stdout",
     "output_type": "stream",
     "text": [
      "{'WA': ['green'], 'T': ['red', 'green', 'blue'], 'V': ['green']}\n",
      "{'SA': 'blue', 'Q': 'green', 'NT': 'red', 'NSW': 'red'}\n"
     ]
    }
   ],
   "source": [
    "# Assign color to the highest degree node\n",
    "hdNode = get_node_hd()# get a node from this\n",
    "# check condition if all nodes are assigned color [hdNoe is '']\n",
    "if not hdNode:\n",
    "    print('VISITED ALL NODE AND ASSIGNMENT COMPLETED')\n",
    "else:    \n",
    "    color = get_color(hdNode) # get a color for selected node\n",
    "    # check 'no color' is returned\n",
    "    if(color=='No color'):\n",
    "        print ('THERE IS NO COLOR. SO OPERATION IS FAILED')\n",
    "    else:     \n",
    "        # print failure\n",
    "        okColor[hdNode]= color # store state and its color into okcolor \n",
    "        print(colorstochooselist)\n",
    "        print(okColor)"
   ]
  },
  {
   "cell_type": "code",
   "execution_count": 6,
   "metadata": {},
   "outputs": [],
   "source": [
    "# define a method to select a node by MRV\n",
    "def get_node_MRV():\n",
    "    node = ''\n",
    "    length = 4 # take a value more than 1 from colourlist length.\n",
    "    for k in colorstochooselist.keys(): # loop running in colorstochooselist.\n",
    "        if(len(colorstochooselist[k])<length): # colorschooselist is less than given length.\n",
    "            #print(k)\n",
    "            length = len(colorstochooselist[k]) # store cureent\n",
    "            node = k #return shortest length node\n",
    "    return node"
   ]
  },
  {
   "cell_type": "code",
   "execution_count": 7,
   "metadata": {},
   "outputs": [
    {
     "data": {
      "text/plain": [
       "'WA'"
      ]
     },
     "execution_count": 7,
     "metadata": {},
     "output_type": "execute_result"
    }
   ],
   "source": [
    "get_node_MRV()"
   ]
  },
  {
   "cell_type": "code",
   "execution_count": 8,
   "metadata": {},
   "outputs": [
    {
     "name": "stdout",
     "output_type": "stream",
     "text": [
      "{'Q': ['red', 'green', 'blue'], 'T': ['red', 'green', 'blue'], 'V': ['red', 'green', 'blue'], 'NT': ['red', 'blue'], 'SA': ['red', 'blue'], 'NSW': ['red', 'green', 'blue']}\n",
      "\n",
      "SELECTED NODE-> {'WA': 'green'}\n",
      "\n",
      "MINIMUM REMAINING VALUE: WA\n",
      "\n",
      "COLOR CHOOSE LIST UPDATED..........\n",
      "\n",
      "{'Q': ['green', 'blue'], 'T': ['red', 'green', 'blue'], 'V': ['red', 'green', 'blue'], 'SA': ['blue'], 'NSW': ['red', 'green', 'blue']}\n",
      "\n",
      "SELECTED NODE-> {'WA': 'green', 'NT': 'red'}\n",
      "\n",
      "MINIMUM REMAINING VALUE: NT\n",
      "\n",
      "COLOR CHOOSE LIST UPDATED..........\n",
      "\n",
      "{'Q': ['green'], 'T': ['red', 'green', 'blue'], 'V': ['red', 'green'], 'NSW': ['red', 'green']}\n",
      "\n",
      "SELECTED NODE-> {'WA': 'green', 'NT': 'red', 'SA': 'blue'}\n",
      "\n",
      "MINIMUM REMAINING VALUE: SA\n",
      "\n",
      "COLOR CHOOSE LIST UPDATED..........\n",
      "\n",
      "{'T': ['red', 'green', 'blue'], 'V': ['red', 'green'], 'NSW': ['red']}\n",
      "\n",
      "SELECTED NODE-> {'WA': 'green', 'NT': 'red', 'SA': 'blue', 'Q': 'green'}\n",
      "\n",
      "MINIMUM REMAINING VALUE: Q\n",
      "\n",
      "COLOR CHOOSE LIST UPDATED..........\n",
      "\n",
      "{'T': ['red', 'green', 'blue'], 'V': ['green']}\n",
      "\n",
      "SELECTED NODE-> {'WA': 'green', 'NT': 'red', 'SA': 'blue', 'Q': 'green', 'NSW': 'red'}\n",
      "\n",
      "MINIMUM REMAINING VALUE: NSW\n",
      "\n",
      "COLOR CHOOSE LIST UPDATED..........\n",
      "\n",
      "{'T': ['red', 'green', 'blue']}\n",
      "\n",
      "SELECTED NODE-> {'WA': 'green', 'NT': 'red', 'SA': 'blue', 'Q': 'green', 'NSW': 'red', 'V': 'green'}\n",
      "\n",
      "MINIMUM REMAINING VALUE: V\n",
      "\n",
      "COLOR CHOOSE LIST UPDATED..........\n",
      "\n",
      "{}\n",
      "\n",
      "SELECTED NODE-> {'WA': 'green', 'NT': 'red', 'SA': 'blue', 'Q': 'green', 'NSW': 'red', 'V': 'green', 'T': 'blue'}\n",
      "\n",
      "MINIMUM REMAINING VALUE: T\n",
      "\n",
      "COLOR CHOOSE LIST UPDATED..........\n",
      "\n"
     ]
    }
   ],
   "source": [
    "okColor={}\n",
    "colorstochooselist={'WA': ['red','green', 'blue'], \n",
    "                    'Q': ['red','green', 'blue'],\n",
    "                    'T': ['red', 'green', 'blue'],\n",
    "                    'V':  ['red','green', 'blue'], \n",
    "                    'NT': ['red','green', 'blue'],\n",
    "                    'SA': ['red','green', 'blue'],                    \n",
    "                    'NSW': ['red','green', 'blue']}\n",
    "\n",
    "L = len(cgraph)\n",
    "for i in range(0,L):\n",
    "    # assign color to the Minimum Remaining Value\n",
    "    mrvNode = get_node_MRV()\n",
    "    selected_color = get_color(mrvNode)\n",
    "    # if 'no color' returned then print failure\n",
    "    if(selected_color=='No color'):\n",
    "        print ('failure')\n",
    "    else: \n",
    "        okColor[mrvNode]= selected_color\n",
    "        print(colorstochooselist)\n",
    "        print()\n",
    "        print(\"SELECTED NODE->\",okColor)\n",
    "        print()\n",
    "        print(\"MINIMUM REMAINING VALUE:\",mrvNode)\n",
    "        print()\n",
    "        print('COLOR CHOOSE LIST UPDATED..........')\n",
    "        print()"
   ]
  },
  {
   "cell_type": "code",
   "execution_count": null,
   "metadata": {},
   "outputs": [],
   "source": []
  }
 ],
 "metadata": {
  "kernelspec": {
   "display_name": "Python 3",
   "language": "python",
   "name": "python3"
  },
  "language_info": {
   "codemirror_mode": {
    "name": "ipython",
    "version": 3
   },
   "file_extension": ".py",
   "mimetype": "text/x-python",
   "name": "python",
   "nbconvert_exporter": "python",
   "pygments_lexer": "ipython3",
   "version": "3.8.8"
  }
 },
 "nbformat": 4,
 "nbformat_minor": 4
}
